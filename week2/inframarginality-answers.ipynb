{
 "cells": [
  {
   "cell_type": "markdown",
   "metadata": {},
   "source": [
    "# 🤖 Inframarginality via simulation\n",
    "\n",
    "❗❗❗ **Make sure to save a copy of this notebook to your Google Drive so your work isn't lost.**"
   ]
  },
  {
   "cell_type": "markdown",
   "metadata": {},
   "source": [
    "## Introduction\n",
    "\n",
    "In this tutorial, we'll use `R` to build a simulation of pretrial incarceration and investigate the concept of inframarginality. \n",
    "\n",
    "By the end of the tutorial, you'll have foundational understanding of the following:\n",
    "1. ⛔ Why error rate comparisons suffer from the problem of inframarginality\n",
    "2. 📈 How to write and plot the results of a simulation using `R`"
   ]
  },
  {
   "cell_type": "markdown",
   "metadata": {},
   "source": [
    "## ✅ Set up\n",
    "\n",
    "Make sure to run the cell below. It imports additional useful functions, adjusts `R` settings, and loads in data. "
   ]
  },
  {
   "cell_type": "code",
   "execution_count": 113,
   "metadata": {
    "vscode": {
     "languageId": "r"
    }
   },
   "outputs": [],
   "source": [
    "# Load in additional functions\n",
    "library(tidyverse)\n",
    "\n",
    "# Use three digits past the decimal point\n",
    "options(digits = 3)\n",
    "\n",
    "# This makes our plots look nice!\n",
    "theme_set(theme_bw())\n"
   ]
  },
  {
   "cell_type": "markdown",
   "metadata": {},
   "source": [
    "## 🏛️ Primer on pretrial incarceration"
   ]
  },
  {
   "cell_type": "markdown",
   "metadata": {},
   "source": [
    "In the lecture, we talked about how judges have decide whether release or detain defendants who plead \"not guilty\" to a crime. The actual trial date may be days to years in the future.\n",
    "\n",
    "> Pretrial detention is a controversial practice. This lab is not intended to condone or condemn the practice.\n",
    "\n",
    "2️⃣ There are two typical reasons why a judge might choose to detain a defendant: \n",
    "1. The judge suspects the defendant will commit a crime if released.\n",
    "2. The judge thinks the defendant will fail to appear (FTA) at a future required court date.\n",
    "\n",
    "⬆️ Pretrial incarceration imposes high costs to the community. For example,\n",
    "- Detained defendants may lose their jobs, and their families may suffer as a result. \n",
    "- Pretrial detention is generally much more expensive than community monitoring or check-ins.\n",
    "- There are large costs associated with severe crimes and having to track down defendants who flee the jurisdiction. Of course, certain types of crime and forgotten court dates tend to be far less costly.\n",
    "\n",
    "Judges have to weight the costs of detention with the costs of potential violations."
   ]
  },
  {
   "cell_type": "markdown",
   "metadata": {},
   "source": [
    "## 🎯 Error rates in pretrial detention decisions"
   ]
  },
  {
   "cell_type": "markdown",
   "metadata": {},
   "source": [
    "For the purposes of this lab, we define a \"pretrial violation\" as either committing a crime while released or intentionally failing to appear at a hearing.\n",
    "\n",
    "> Pretrial violations often include things like forgetting a court date or failing a drug test. For this lab, assume we  only consider severe violations.\n",
    "\n",
    "It's generally expected that some released defendants will violate the terms of their pretrial release. \n",
    "\n",
    "⬇️ Judges try to minimize the rate of violations among released defendants.\n",
    "\n",
    "> Of course, one way to minimize violations is to detain every defendant. The violation rate is an imperfect metric without more context about the jurisdiction."
   ]
  },
  {
   "cell_type": "markdown",
   "metadata": {},
   "source": [
    "## 🚀 Exercise: Constructing risk distributions"
   ]
  },
  {
   "cell_type": "markdown",
   "metadata": {},
   "source": [
    "For this exercise, consider the following scenario:\n",
    "\n",
    "- There are two groups, Group 1 and Group 2.\n",
    "- If everyone in **Group 1** were released, we would observe a **50\\% violation rate** for Group 1 defendants.\n",
    "- For **Group 2**, the corresponding violation rate is **40\\%**.\n",
    "\n",
    "A few additional details about violation probabilities:\n",
    "\n",
    "- We assume that everyone is either of **high risk** or **low risk**.\n",
    "- **High risk** defendants, regardless of group membership, violate with a **60\\% probability**.\n",
    "- **Low risk** defendants, regardless of group membership, violate with a **30\\% probability**.\n",
    "\n",
    "Using `R`, determine the proportion of defendants in each group who are low risk.\n",
    "\n",
    "> Helpful hint: You may find it easier to conceptualize this problem if you assume there are 1,000 individuals in each group, but the answer is the same regardless of the group size."
   ]
  },
  {
   "cell_type": "code",
   "execution_count": 114,
   "metadata": {},
   "outputs": [
    {
     "name": "stdout",
     "output_type": "stream",
     "text": [
      "[1] \"Proportion of Group 1 low risk:\"\n",
      "[1] 0.333\n",
      "[1] \"Proportion of Group 2 low risk:\"\n",
      "[1] 0.667\n"
     ]
    }
   ],
   "source": [
    "# Your code here!\n",
    "\n",
    "# START ANSWER\n",
    "\n",
    "# If `prop_low_1` is the proportion of Group 1 that is low risk,\n",
    "# 30% of low risk defendants violate if released,\n",
    "# 60% of high risk defendants violate if released,\n",
    "# and 50% of Group 1 violate if released, then\n",
    "\n",
    "# prop_low_1 * 0.3 + (1 - prop_low_1) * 0.6 = 0.5\n",
    "\n",
    "# Rearranging:\n",
    "\n",
    "# prop_low_1 * 0.3 + 0.6 - prop_low_1 * 0.6 = 0.5\n",
    "\n",
    "# prop_low_1 * (0.3 - 0.6) = (0.5 - 0.6)\n",
    "\n",
    "prop_low_1 = (0.6 - 0.5) / (0.6 - 0.3)\n",
    "\n",
    "print(\"Proportion of Group 1 low risk:\")\n",
    "print(prop_low_1)\n",
    "\n",
    "# Using the same logic for Group 2:\n",
    "prop_low_2 = (0.6 - 0.4) / (0.6 - 0.3)\n",
    "\n",
    "print(\"Proportion of Group 2 low risk:\")\n",
    "print(prop_low_2)\n",
    "\n",
    "\n",
    "# END ANSWER"
   ]
  },
  {
   "cell_type": "markdown",
   "metadata": {
    "tags": []
   },
   "source": [
    "## 🎶 Interlude: Functions in `R`"
   ]
  },
  {
   "cell_type": "markdown",
   "metadata": {},
   "source": [
    "To define a function in `R`, use the following notation:"
   ]
  },
  {
   "cell_type": "code",
   "execution_count": 115,
   "metadata": {},
   "outputs": [
    {
     "data": {
      "text/html": [
       "250"
      ],
      "text/latex": [
       "250"
      ],
      "text/markdown": [
       "250"
      ],
      "text/plain": [
       "[1] 250"
      ]
     },
     "metadata": {},
     "output_type": "display_data"
    }
   ],
   "source": [
    "# Function to add two numbers\n",
    "add = function(x, y) {\n",
    "  total = x + y\n",
    "  return(total)\n",
    "}\n",
    "\n",
    "add(100, 150)"
   ]
  },
  {
   "cell_type": "markdown",
   "metadata": {},
   "source": [
    "🐍 For those more familiar with `Python`, the code above is equivalent to the following:\n",
    "\n",
    "```\n",
    "# Function to add two numbers\n",
    "def add(x, y):\n",
    "    total = x + y\n",
    "    return total\n",
    "```"
   ]
  },
  {
   "cell_type": "markdown",
   "metadata": {},
   "source": [
    "## 🚀 Exercise: Write a function"
   ]
  },
  {
   "cell_type": "markdown",
   "metadata": {},
   "source": [
    "Write a function `calc_low_risk_prop` to compute the proportion of defendants in an arbitrary group that are low risk.\n",
    "\n",
    "Then, use your function to replicate the results of the previous exercise.\n",
    "\n",
    "Your function should take the following inputs:\n",
    "- The overall violation rate of the group, `vg`\n",
    "- The probability of violation for low risk defendants if released, `vl`\n",
    "- The probability of violation for high risk defendants if released, `vh`"
   ]
  },
  {
   "cell_type": "code",
   "execution_count": 116,
   "metadata": {},
   "outputs": [
    {
     "name": "stdout",
     "output_type": "stream",
     "text": [
      "[1] \"Prop. low risk Group 1:\"\n",
      "[1] 0.333\n",
      "[1] \"Prop. low risk Group 2:\"\n",
      "[1] 0.667\n"
     ]
    }
   ],
   "source": [
    "# Your code here!\n",
    "\n",
    "# START ANSWER\n",
    "\n",
    "calc_low_risk_prop = function(\n",
    "    vg, # Group violation rate\n",
    "    vl, # Pr(violate|low, released)\n",
    "    vh # Pr(violate|high, released)\n",
    "  ) {\n",
    "    low_risk_prop = (vh - vg) / (vh - vl)\n",
    "    return(low_risk_prop)\n",
    "  }\n",
    "\n",
    "print('Prop. low risk Group 1:')\n",
    "print(calc_low_risk_prop(vg = 0.5, vl = 0.3, vh = 0.6))\n",
    "\n",
    "print('Prop. low risk Group 2:')\n",
    "print(calc_low_risk_prop(vg = 0.4, vl = 0.3, vh = 0.6))\n",
    "\n",
    "# END ANSWER"
   ]
  },
  {
   "cell_type": "markdown",
   "metadata": {},
   "source": [
    "## 🤥 False negative rates\n",
    "\n",
    "Let's consider pretrial detention as a binary decision, where 1 means detain and 0 means release.\n",
    "\n",
    "By construction: \n",
    "- A **false negative (FN)** is the event that a released defendant violates.\n",
    "- The **false negative rate (FNR)** is the release rate of those who would violate if released.\n",
    "\n",
    "Intuition for the FNR:\n",
    "\n",
    "1. The FNR is $\\frac{\\text{FN}}{\\text{FN}+\\text{TP}}$ (see slides).\n",
    "2. $\\text{FN}$ is the number of released defendants who violate.\n",
    "3. $\\text{TP}$ is the number of detained defendants who would have violated if released.\n",
    "2. Therefore, $\\text{FN}+\\text{TP}$ is the total number of people who would violate if released.\n",
    "3. So, the FNR is the release rate of those who would violate if released.\n",
    "\n",
    "> The FNR can also be calculated by interpreting $\\text{FN}$ as the *proportion* of released defendants who violate, and $\\text{TP}$ as the *proportion* of detained defendants who would have violated if released. This will come in handy later!"
   ]
  },
  {
   "cell_type": "markdown",
   "metadata": {},
   "source": [
    "## 🧑‍⚖️ Judicial decisions"
   ]
  },
  {
   "cell_type": "markdown",
   "metadata": {},
   "source": [
    "Let's expand our pretrial detention scenario. Consider the following:\n",
    "- Suppose there is a judge who can perfectly perceive whether a defendant is low risk or high risk.\n",
    "- The judge uses a simple decision rule: release low risk defendants, and detain high risk defendants.\n",
    "\n",
    "In the scenario above, **all defendants are treated identically** (i.e., irrespective of group membership)."
   ]
  },
  {
   "cell_type": "markdown",
   "metadata": {},
   "source": [
    "## 🚀 Exercise: Comparing false negative rates"
   ]
  },
  {
   "cell_type": "markdown",
   "metadata": {},
   "source": [
    "For the judge described above, write a function to calculate to the calculate the false negative rate for an arbitrary group with an overall violation rate of `vg`, where low risk defendants violate with probability `vl` and high risk defendants violate with probability `vb`.\n",
    "\n",
    "> Your `calc_low_risk_prop` function may come in handy.\n",
    "\n",
    "Then, calculate the expected false negative rate for each group.\n",
    "\n",
    "> Important aside: It's impossible to calculate the true FNR from real data, since we do not observe violations for defendants who are detained. We can only estimate the true FNR under strong assumptions. \n",
    ">\n",
    "> For this problem, we're taking the perspective of a statistical **oracle** who knows everything about the populations of interest.\n",
    "\n",
    "What do you take away from your results? "
   ]
  },
  {
   "cell_type": "code",
   "execution_count": 117,
   "metadata": {},
   "outputs": [
    {
     "name": "stdout",
     "output_type": "stream",
     "text": [
      "[1] \"Group 1 FNR:\"\n",
      "[1] 0.2\n",
      "[1] \"Group 2 FNR:\"\n",
      "[1] 0.5\n"
     ]
    }
   ],
   "source": [
    "# Your code here!\n",
    "\n",
    "# START ANSWER\n",
    "\n",
    "calc_fnr = function(vg, vl, vh) {\n",
    "  \n",
    "  # First, get the proportion of the group that is low risk.\n",
    "  pl = calc_low_risk_prop(vg, vl, vh)\n",
    "  \n",
    "  # Then, get the proportion of the group that is high risk.\n",
    "  ph = 1 - pl\n",
    "  \n",
    "  # Next, get the proportion of the group that is a FN (i.e., released+violate)\n",
    "  p_fn = pl*vl\n",
    "  \n",
    "  # And the proportion that is a TP (i.e., detained+violate)\n",
    "  p_tp = ph*vh\n",
    "  \n",
    "  # Finally, calculate the FNR\n",
    "  fnr = p_fn / (p_fn + p_tp)\n",
    "  \n",
    "  return(fnr)\n",
    "  \n",
    "}\n",
    "\n",
    "print('Group 1 FNR:')\n",
    "print(calc_fnr(0.5, 0.3, 0.6))\n",
    "\n",
    "print('Group 2 FNR:')\n",
    "print(calc_fnr(0.4, 0.3, 0.6))\n",
    "\n",
    "# The FNRs are different, even though the decision rule is fair.\n",
    "# Differences in error rates can falsely suggest discriminatory behavior.\n",
    "\n",
    "# END ANSWER"
   ]
  },
  {
   "cell_type": "markdown",
   "metadata": {},
   "source": [
    "## 🎶 Interlude: Vectors and `for` loops in `R`"
   ]
  },
  {
   "cell_type": "markdown",
   "metadata": {},
   "source": [
    "A **vector** in `R` is a list of numbers, strings, or booleans.\n",
    "\n",
    "> Not to be confused with a **list**, which is not covered in this tutorial. Lists can contain elements of any type.\n",
    "\n",
    "Here's a shortcut for making a vector of arbitrary length with a constant value:"
   ]
  },
  {
   "cell_type": "code",
   "execution_count": 118,
   "metadata": {},
   "outputs": [
    {
     "data": {
      "text/html": [
       "<style>\n",
       ".list-inline {list-style: none; margin:0; padding: 0}\n",
       ".list-inline>li {display: inline-block}\n",
       ".list-inline>li:not(:last-child)::after {content: \"\\00b7\"; padding: 0 .5ex}\n",
       "</style>\n",
       "<ol class=list-inline><li>&lt;NA&gt;</li><li>&lt;NA&gt;</li><li>&lt;NA&gt;</li><li>&lt;NA&gt;</li><li>&lt;NA&gt;</li><li>&lt;NA&gt;</li><li>&lt;NA&gt;</li><li>&lt;NA&gt;</li><li>&lt;NA&gt;</li><li>&lt;NA&gt;</li></ol>\n"
      ],
      "text/latex": [
       "\\begin{enumerate*}\n",
       "\\item <NA>\n",
       "\\item <NA>\n",
       "\\item <NA>\n",
       "\\item <NA>\n",
       "\\item <NA>\n",
       "\\item <NA>\n",
       "\\item <NA>\n",
       "\\item <NA>\n",
       "\\item <NA>\n",
       "\\item <NA>\n",
       "\\end{enumerate*}\n"
      ],
      "text/markdown": [
       "1. &lt;NA&gt;\n",
       "2. &lt;NA&gt;\n",
       "3. &lt;NA&gt;\n",
       "4. &lt;NA&gt;\n",
       "5. &lt;NA&gt;\n",
       "6. &lt;NA&gt;\n",
       "7. &lt;NA&gt;\n",
       "8. &lt;NA&gt;\n",
       "9. &lt;NA&gt;\n",
       "10. &lt;NA&gt;\n",
       "\n",
       "\n"
      ],
      "text/plain": [
       " [1] NA NA NA NA NA NA NA NA NA NA"
      ]
     },
     "metadata": {},
     "output_type": "display_data"
    }
   ],
   "source": [
    "# NA is similar to None in Python\n",
    "rep(NA, 10)"
   ]
  },
  {
   "cell_type": "markdown",
   "metadata": {},
   "source": [
    "We can also use `c()` to create vectors.\n",
    "\n",
    "> 🔎 The \"c\" in `c()` stands for **concatenate**.\n"
   ]
  },
  {
   "cell_type": "code",
   "execution_count": 119,
   "metadata": {},
   "outputs": [
    {
     "data": {
      "text/html": [
       "<style>\n",
       ".list-inline {list-style: none; margin:0; padding: 0}\n",
       ".list-inline>li {display: inline-block}\n",
       ".list-inline>li:not(:last-child)::after {content: \"\\00b7\"; padding: 0 .5ex}\n",
       "</style>\n",
       "<ol class=list-inline><li>10</li><li>100</li><li>1000</li></ol>\n"
      ],
      "text/latex": [
       "\\begin{enumerate*}\n",
       "\\item 10\n",
       "\\item 100\n",
       "\\item 1000\n",
       "\\end{enumerate*}\n"
      ],
      "text/markdown": [
       "1. 10\n",
       "2. 100\n",
       "3. 1000\n",
       "\n",
       "\n"
      ],
      "text/plain": [
       "[1]   10  100 1000"
      ]
     },
     "metadata": {},
     "output_type": "display_data"
    }
   ],
   "source": [
    "c(10, 100, 1000)"
   ]
  },
  {
   "cell_type": "markdown",
   "metadata": {},
   "source": [
    "We can extract **elements** from vectors using their **index**, or their place in line.\n",
    "\n",
    "> 🔎 Unlike most other programming languages, `R` is 1-indexed, not 0-indexed. So, the first element in a vector `v` is `v[1]`, not `v[0]`."
   ]
  },
  {
   "cell_type": "code",
   "execution_count": 120,
   "metadata": {},
   "outputs": [
    {
     "data": {
      "text/html": [
       "10"
      ],
      "text/latex": [
       "10"
      ],
      "text/markdown": [
       "10"
      ],
      "text/plain": [
       "[1] 10"
      ]
     },
     "metadata": {},
     "output_type": "display_data"
    }
   ],
   "source": [
    "my_vector = c(10, 100, 1000)\n",
    "my_vector[1]"
   ]
  },
  {
   "cell_type": "markdown",
   "metadata": {},
   "source": [
    "#### 🔎 Printing vectors \n",
    "\n",
    "If you explicitly `print` a vector, the output looks a little different:"
   ]
  },
  {
   "cell_type": "code",
   "execution_count": 121,
   "metadata": {},
   "outputs": [
    {
     "name": "stdout",
     "output_type": "stream",
     "text": [
      "[1]   10  100 1000\n"
     ]
    }
   ],
   "source": [
    "print(my_vector)"
   ]
  },
  {
   "cell_type": "markdown",
   "metadata": {},
   "source": [
    "Why is there a `[1]` on the left of the printed results? \n",
    "\n",
    "Printing a longer vector gives us a hint:"
   ]
  },
  {
   "cell_type": "code",
   "execution_count": 122,
   "metadata": {},
   "outputs": [
    {
     "name": "stdout",
     "output_type": "stream",
     "text": [
      " [1] 25 26 27 28 29 30 31 32 33 34 35 36 37 38 39 40 41 42 43 44 45 46 47 48 49\n",
      "[26] 50 51 52 53 54 55 56 57 58 59 60 61 62 63 64 65 66 67 68 69 70 71 72 73 74\n",
      "[51] 75\n"
     ]
    }
   ],
   "source": [
    "print(25:75)"
   ]
  },
  {
   "cell_type": "markdown",
   "metadata": {},
   "source": [
    "The bracketed numbers on the left side of the printed results indicate the index of the element immediately to the right.\n",
    "\n",
    "For example `[26]` indicates that `50` is the 26th element in the vector."
   ]
  },
  {
   "cell_type": "markdown",
   "metadata": {},
   "source": [
    "### `for` loops\n",
    "\n",
    "For most data science projects, `for` loops should be avoided in favor of more efficient tools.\n",
    "\n",
    "> For example, the `map` function and its variants from `furrr` package. Run `?map` for details.\n",
    "\n",
    "However, for exposition, here's the `R` syntax for a `for` loop:"
   ]
  },
  {
   "cell_type": "code",
   "execution_count": 123,
   "metadata": {},
   "outputs": [
    {
     "name": "stdout",
     "output_type": "stream",
     "text": [
      "[1] 1\n",
      "[1] 3\n",
      "[1] 5\n",
      "[1] 7\n",
      "[1] 9\n",
      "[1] 11\n",
      "[1] 13\n",
      "[1] 15\n",
      "[1] 17\n",
      "[1] 19\n"
     ]
    }
   ],
   "source": [
    "# Print the odd numbers between 1 and 20\n",
    "for (i in seq(1, 20, 2)) {\n",
    "  print(i)\n",
    "}"
   ]
  },
  {
   "cell_type": "markdown",
   "metadata": {},
   "source": [
    "🐍 The equivalent in `Python`:\n",
    "\n",
    "```\n",
    "# Print the odd numbers between 1 and 20\n",
    "for i in range(1, 20, 2):\n",
    "    print(i)\n",
    "```"
   ]
  },
  {
   "cell_type": "markdown",
   "metadata": {},
   "source": [
    "## 🚀 Exercise: Simulating different scenarios"
   ]
  },
  {
   "cell_type": "markdown",
   "metadata": {},
   "source": [
    "For this exercise, we'll investigate how our results change as a function of the violation probabilities of low and high risk defendants.\n",
    "\n",
    "As above, assume that the overall violation rate of Group 1 is 50\\%, and 40\\% for Group 2.\n",
    "\n",
    "Use two nested `for` loops to iterate over the following two vectors:\n",
    "\n",
    "1. `vl_vals = seq(0, 0.3, by=0.001)`\n",
    "\n",
    "> These are possible values of the probability that a low risk defendant violates.\n",
    "\n",
    "2. `vh_vals = c(0.6, 1, by=0.001)`\n",
    "\n",
    "> These are possible values of the probability that a high risk defendant violates.\n",
    "\n",
    "At each iteration, calculate the difference in false negative rates between Groups 1 and 2. Call this value `diff`.\n",
    "\n",
    "Make sure to create three vectors to store the values of `vl`, `vh`, and `diff` at each iteration. \n",
    "\n",
    "> You should initialize each of these vectors with `rep(NA, N)`, where `N` is the total number of iterations. This is faster than concatenating to the end of the results vector at each iteration.\n",
    ">\n",
    "> You can use the `summary` function on the results vectors to check if the values make sense. \n",
    "\n",
    "In the next exercise, we'll plot the results from this exercise."
   ]
  },
  {
   "cell_type": "code",
   "execution_count": 124,
   "metadata": {},
   "outputs": [
    {
     "data": {
      "text/plain": [
       "   Min. 1st Qu.  Median    Mean 3rd Qu.    Max. \n",
       "-0.3000 -0.1577 -0.0927 -0.1026 -0.0413  0.0000 "
      ]
     },
     "metadata": {},
     "output_type": "display_data"
    }
   ],
   "source": [
    "# Your code here!\n",
    "\n",
    "# START ANSWER\n",
    "\n",
    "vl_vals = seq(0, 0.3, by=0.001)\n",
    "vh_vals = seq(0.6, 1, by=0.001)\n",
    "\n",
    "n_iterations = length(vl_vals) * length(vh_vals)\n",
    "\n",
    "vl_results = rep(NA, n_iterations)\n",
    "vh_results = rep(NA, n_iterations)\n",
    "diff_results = rep(NA, n_iterations)\n",
    "\n",
    "counter = 1\n",
    "\n",
    "for (vl in vl_vals) {\n",
    "  for (vh in vh_vals) {\n",
    "\n",
    "    fnr1 = calc_fnr(vg=0.5, vl, vh)\n",
    "    fnr2 = calc_fnr(vg=0.4, vl, vh)\n",
    "    diff = fnr1 - fnr2\n",
    "\n",
    "    vl_results[counter] = vl\n",
    "    vh_results[counter] = vh\n",
    "    diff_results[counter] = diff\n",
    "\n",
    "    counter = counter + 1\n",
    "  }\n",
    "}\n",
    "\n",
    "\n",
    "# It looks like our answers are constrained between -1 and 0\n",
    "summary(diff_results)\n",
    "\n",
    "# END ANSWER"
   ]
  },
  {
   "cell_type": "markdown",
   "metadata": {},
   "source": [
    "## 🚀 Final exercise: Plotting the results"
   ]
  },
  {
   "cell_type": "markdown",
   "metadata": {},
   "source": [
    "Create a tibble (i.e., dataframe with extra features) with your three results vectors from the previous exercise. \n",
    "\n",
    "Using your tibble, make a plot using `geom_raster`.\n",
    "\n",
    "> `?geom_raster` for more details!\n",
    "\n",
    "Using `geom_raster`, put the `vl` results on the x-axis, the `vh` results on the y-axis, and map `fill` (not `color`!) to `diff`. \n",
    "\n",
    "What patterns do you notice? How do these relate to the FNR formula?\n",
    "\n",
    "🖼️ Here's how to make a tibble:"
   ]
  },
  {
   "cell_type": "code",
   "execution_count": 125,
   "metadata": {},
   "outputs": [
    {
     "data": {
      "text/html": [
       "<table class=\"dataframe\">\n",
       "<caption>A tibble: 5 × 2</caption>\n",
       "<thead>\n",
       "\t<tr><th scope=col>x_vals</th><th scope=col>y_vals</th></tr>\n",
       "\t<tr><th scope=col>&lt;int&gt;</th><th scope=col>&lt;int&gt;</th></tr>\n",
       "</thead>\n",
       "<tbody>\n",
       "\t<tr><td>1</td><td> 6</td></tr>\n",
       "\t<tr><td>2</td><td> 7</td></tr>\n",
       "\t<tr><td>3</td><td> 8</td></tr>\n",
       "\t<tr><td>4</td><td> 9</td></tr>\n",
       "\t<tr><td>5</td><td>10</td></tr>\n",
       "</tbody>\n",
       "</table>\n"
      ],
      "text/latex": [
       "A tibble: 5 × 2\n",
       "\\begin{tabular}{ll}\n",
       " x\\_vals & y\\_vals\\\\\n",
       " <int> & <int>\\\\\n",
       "\\hline\n",
       "\t 1 &  6\\\\\n",
       "\t 2 &  7\\\\\n",
       "\t 3 &  8\\\\\n",
       "\t 4 &  9\\\\\n",
       "\t 5 & 10\\\\\n",
       "\\end{tabular}\n"
      ],
      "text/markdown": [
       "\n",
       "A tibble: 5 × 2\n",
       "\n",
       "| x_vals &lt;int&gt; | y_vals &lt;int&gt; |\n",
       "|---|---|\n",
       "| 1 |  6 |\n",
       "| 2 |  7 |\n",
       "| 3 |  8 |\n",
       "| 4 |  9 |\n",
       "| 5 | 10 |\n",
       "\n"
      ],
      "text/plain": [
       "  x_vals y_vals\n",
       "1 1       6    \n",
       "2 2       7    \n",
       "3 3       8    \n",
       "4 4       9    \n",
       "5 5      10    "
      ]
     },
     "metadata": {},
     "output_type": "display_data"
    }
   ],
   "source": [
    "# colon `:` is a shortcut for vectors of consecutive integers\n",
    "x = 1:5\n",
    "y = 6:10\n",
    "\n",
    "# df is often used to denote a dataframe\n",
    "df = tibble(\n",
    "  x_vals = x,\n",
    "  y_vals = y\n",
    ")\n",
    "\n",
    "df"
   ]
  },
  {
   "cell_type": "code",
   "execution_count": 127,
   "metadata": {},
   "outputs": [
    {
     "data": {
      "text/html": [
       "<table class=\"dataframe\">\n",
       "<caption>A tibble: 10 × 3</caption>\n",
       "<thead>\n",
       "\t<tr><th scope=col>vl</th><th scope=col>vh</th><th scope=col>diff</th></tr>\n",
       "\t<tr><th scope=col>&lt;dbl&gt;</th><th scope=col>&lt;dbl&gt;</th><th scope=col>&lt;dbl&gt;</th></tr>\n",
       "</thead>\n",
       "<tbody>\n",
       "\t<tr><td>0.002</td><td>0.649</td><td>-0.00100</td></tr>\n",
       "\t<tr><td>0.083</td><td>0.757</td><td>-0.04661</td></tr>\n",
       "\t<tr><td>0.002</td><td>0.854</td><td>-0.00100</td></tr>\n",
       "\t<tr><td>0.075</td><td>0.931</td><td>-0.04079</td></tr>\n",
       "\t<tr><td>0.161</td><td>0.949</td><td>-0.09695</td></tr>\n",
       "\t<tr><td>0.005</td><td>0.868</td><td>-0.00251</td></tr>\n",
       "\t<tr><td>0.250</td><td>0.930</td><td>-0.17096</td></tr>\n",
       "\t<tr><td>0.280</td><td>0.741</td><td>-0.22503</td></tr>\n",
       "\t<tr><td>0.116</td><td>0.645</td><td>-0.07072</td></tr>\n",
       "\t<tr><td>0.182</td><td>0.956</td><td>-0.11240</td></tr>\n",
       "</tbody>\n",
       "</table>\n"
      ],
      "text/latex": [
       "A tibble: 10 × 3\n",
       "\\begin{tabular}{lll}\n",
       " vl & vh & diff\\\\\n",
       " <dbl> & <dbl> & <dbl>\\\\\n",
       "\\hline\n",
       "\t 0.002 & 0.649 & -0.00100\\\\\n",
       "\t 0.083 & 0.757 & -0.04661\\\\\n",
       "\t 0.002 & 0.854 & -0.00100\\\\\n",
       "\t 0.075 & 0.931 & -0.04079\\\\\n",
       "\t 0.161 & 0.949 & -0.09695\\\\\n",
       "\t 0.005 & 0.868 & -0.00251\\\\\n",
       "\t 0.250 & 0.930 & -0.17096\\\\\n",
       "\t 0.280 & 0.741 & -0.22503\\\\\n",
       "\t 0.116 & 0.645 & -0.07072\\\\\n",
       "\t 0.182 & 0.956 & -0.11240\\\\\n",
       "\\end{tabular}\n"
      ],
      "text/markdown": [
       "\n",
       "A tibble: 10 × 3\n",
       "\n",
       "| vl &lt;dbl&gt; | vh &lt;dbl&gt; | diff &lt;dbl&gt; |\n",
       "|---|---|---|\n",
       "| 0.002 | 0.649 | -0.00100 |\n",
       "| 0.083 | 0.757 | -0.04661 |\n",
       "| 0.002 | 0.854 | -0.00100 |\n",
       "| 0.075 | 0.931 | -0.04079 |\n",
       "| 0.161 | 0.949 | -0.09695 |\n",
       "| 0.005 | 0.868 | -0.00251 |\n",
       "| 0.250 | 0.930 | -0.17096 |\n",
       "| 0.280 | 0.741 | -0.22503 |\n",
       "| 0.116 | 0.645 | -0.07072 |\n",
       "| 0.182 | 0.956 | -0.11240 |\n",
       "\n"
      ],
      "text/plain": [
       "   vl    vh    diff    \n",
       "1  0.002 0.649 -0.00100\n",
       "2  0.083 0.757 -0.04661\n",
       "3  0.002 0.854 -0.00100\n",
       "4  0.075 0.931 -0.04079\n",
       "5  0.161 0.949 -0.09695\n",
       "6  0.005 0.868 -0.00251\n",
       "7  0.250 0.930 -0.17096\n",
       "8  0.280 0.741 -0.22503\n",
       "9  0.116 0.645 -0.07072\n",
       "10 0.182 0.956 -0.11240"
      ]
     },
     "metadata": {},
     "output_type": "display_data"
    },
    {
     "data": {
      "image/png": "[encoded data removed]",
      "text/plain": [
       "plot without title"
      ]
     },
     "metadata": {
      "image/png": {
       "height": 420,
       "width": 420
      }
     },
     "output_type": "display_data"
    }
   ],
   "source": [
    "# Your code here!\n",
    "\n",
    "# START ANSWER\n",
    "\n",
    "df = tibble(\n",
    "  vl = vl_results,\n",
    "  vh = vh_results,\n",
    "  diff = diff_results\n",
    ")\n",
    "\n",
    "# 10 random rows\n",
    "sample_n(df, 10)\n",
    "\n",
    "df %>%\n",
    "  ggplot() +\n",
    "  geom_raster(aes(x=vl, y=vh, fill=diff))\n",
    "\n",
    "# As the violation probability of low risk defendants moves toward 0,\n",
    "# the difference in false negative rates becomes less severe, eventually\n",
    "# reaching 0.\n",
    "\n",
    "# However, the same is not quite true for the violation probability of\n",
    "# high risk defendants. As the violation probability moves closer to 1,\n",
    "# the difference in false negative rates becomes slightly less severe,\n",
    "# but not nearly to the same extent as the changes observed\n",
    "# when low risk violation probability decreases\n",
    "\n",
    "# Mathematical intuition: the FNR formula is FN/(FN+TP).\n",
    "# If low risk defendants rarely violate and are always released, then\n",
    "# the numerator will be close to 0. \n",
    "# If high risk defendants are more likely to violate, then TP will increase\n",
    "# and FNR will decrease, but not nearly with the same effect as decreasing FN.\n",
    "\n",
    "# END ANSWER"
   ]
  }
 ],
 "metadata": {
  "kernelspec": {
   "display_name": "R",
   "language": "R",
   "name": "ir"
  },
  "language_info": {
   "codemirror_mode": "r",
   "file_extension": ".r",
   "mimetype": "text/x-r-source",
   "name": "R",
   "pygments_lexer": "r",
   "version": "4.2.1"
  }
 },
 "nbformat": 4,
 "nbformat_minor": 4
}
