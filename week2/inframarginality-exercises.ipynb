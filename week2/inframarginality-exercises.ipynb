{
 "cells": [
  {
   "cell_type": "markdown",
   "execution_count": 0,
   "metadata": {},
   "outputs": [],
   "source": [
    "# 🤖 Inframarginality via simulation\n",
    "\n",
    "❗❗❗ **Make sure to save a copy of this notebook to your Google Drive so your work isn't lost.**"
   ]
  },
  {
   "cell_type": "markdown",
   "execution_count": 0,
   "metadata": {},
   "outputs": [],
   "source": [
    "## Introduction\n",
    "\n",
    "In this tutorial, we'll use `R` to build a simulation of pretrial incarceration and investigate the concept of inframarginality. \n",
    "\n",
    "By the end of the tutorial, you'll have foundational understanding of the following:\n",
    "1. ⛔ Why error rate comparisons suffer from the problem of inframarginality\n",
    "2. 📈 How to write and plot the results of a simulation using `R`"
   ]
  },
  {
   "cell_type": "markdown",
   "execution_count": 0,
   "metadata": {},
   "outputs": [],
   "source": [
    "## ✅ Set up\n",
    "\n",
    "Make sure to run the cell below. It imports additional useful functions, adjusts `R` settings, and loads in data. "
   ]
  },
  {
   "cell_type": "code",
   "execution_count": 0,
   "metadata": {
    "vscode": {
     "languageId": "r"
    }
   },
   "outputs": [],
   "source": [
    "# Load in additional functions\n",
    "library(tidyverse)\n",
    "\n",
    "# Use three digits past the decimal point\n",
    "options(digits = 3)\n",
    "\n",
    "# This makes our plots look nice!\n",
    "theme_set(theme_bw())\n"
   ]
  },
  {
   "cell_type": "markdown",
   "execution_count": 0,
   "metadata": {},
   "outputs": [],
   "source": [
    "## 🏛️ Primer on pretrial incarceration"
   ]
  },
  {
   "cell_type": "markdown",
   "execution_count": 0,
   "metadata": {},
   "outputs": [],
   "source": [
    "In the lecture, we talked about how judges have to decide whether release or detain defendants who plead \"not guilty\" to a crime. The actual trial date may be days to years in the future.\n",
    "\n",
    "> Pretrial detention is a controversial practice. This lab is not intended to condone or condemn the practice.\n",
    "\n",
    "2️⃣ There are two typical reasons why a judge might choose to detain a defendant: \n",
    "1. The judge suspects the defendant will commit a crime if released.\n",
    "2. The judge thinks the defendant will fail to appear (FTA) at a future required court date.\n",
    "\n",
    "⬆️ Pretrial incarceration imposes high costs to the community. For example,\n",
    "- Detained defendants may lose their jobs, and their families may suffer as a result. \n",
    "- Pretrial detention is generally much more expensive than community monitoring or check-ins.\n",
    "- There are large costs associated with severe crimes and having to track down defendants who flee the jurisdiction. Of course, certain types of crime and forgotten court dates tend to be far less costly.\n",
    "\n",
    "Judges have to weight the costs of detention with the costs of potential violations."
   ]
  },
  {
   "cell_type": "markdown",
   "execution_count": 0,
   "metadata": {},
   "outputs": [],
   "source": [
    "## 🎯 Error rates in pretrial detention decisions"
   ]
  },
  {
   "cell_type": "markdown",
   "execution_count": 0,
   "metadata": {},
   "outputs": [],
   "source": [
    "For the purposes of this lab, we define a \"pretrial violation\" as either committing a crime while released or intentionally failing to appear at a hearing.\n",
    "\n",
    "> Pretrial violations often include things like forgetting a court date or failing a drug test. For this lab, assume we  only consider severe violations.\n",
    "\n",
    "It's generally expected that some released defendants will violate the terms of their pretrial release. \n",
    "\n",
    "⬇️ Judges try to minimize the rate of violations among released defendants.\n",
    "\n",
    "> Of course, one way to minimize violations is to detain every defendant. The violation rate is an imperfect metric without more context about the jurisdiction."
   ]
  },
  {
   "cell_type": "markdown",
   "execution_count": 0,
   "metadata": {},
   "outputs": [],
   "source": [
    "## 🚀 Exercise: Constructing risk distributions"
   ]
  },
  {
   "cell_type": "markdown",
   "execution_count": 0,
   "metadata": {},
   "outputs": [],
   "source": [
    "For this exercise, consider the following scenario:\n",
    "\n",
    "- There are two groups, Group 1 and Group 2.\n",
    "- If everyone in **Group 1** were released, we would observe a **50\\% violation rate** for Group 1 defendants.\n",
    "- For **Group 2**, the corresponding violation rate is **40\\%**.\n",
    "\n",
    "A few additional details about violation probabilities:\n",
    "\n",
    "- We assume that everyone is either of **high risk** or **low risk**.\n",
    "- **High risk** defendants, regardless of group membership, violate with a **60\\% probability**.\n",
    "- **Low risk** defendants, regardless of group membership, violate with a **30\\% probability**.\n",
    "\n",
    "Using `R`, determine the proportion of defendants in each group who are low risk.\n",
    "\n",
    "> Helpful hint: You may find it easier to conceptualize this problem if you assume there are 1,000 individuals in each group, but the answer is the same regardless of the group size."
   ]
  },
  {
   "cell_type": "code",
   "execution_count": 0,
   "metadata": {},
   "outputs": [],
   "source": [
    "# Your code here!\n",
    "\n"
   ]
  },
  {
   "cell_type": "markdown",
   "execution_count": 0,
   "metadata": {
    "tags": []
   },
   "outputs": [],
   "source": [
    "## 🎶 Interlude: Functions in `R`"
   ]
  },
  {
   "cell_type": "markdown",
   "execution_count": 0,
   "metadata": {},
   "outputs": [],
   "source": [
    "To define a function in `R`, use the following notation:"
   ]
  },
  {
   "cell_type": "code",
   "execution_count": 0,
   "metadata": {},
   "outputs": [],
   "source": [
    "# Function to add two numbers\n",
    "add = function(x, y) {\n",
    "  total = x + y\n",
    "  return(total)\n",
    "}\n",
    "\n",
    "add(100, 150)"
   ]
  },
  {
   "cell_type": "markdown",
   "execution_count": 0,
   "metadata": {},
   "outputs": [],
   "source": [
    "🐍 For those more familiar with `Python`, the code above is equivalent to the following:\n",
    "\n",
    "```\n",
    "# Function to add two numbers\n",
    "def add(x, y):\n",
    "    total = x + y\n",
    "    return total\n",
    "```"
   ]
  },
  {
   "cell_type": "markdown",
   "execution_count": 0,
   "metadata": {},
   "outputs": [],
   "source": [
    "## 🚀 Exercise: Write a function"
   ]
  },
  {
   "cell_type": "markdown",
   "execution_count": 0,
   "metadata": {},
   "outputs": [],
   "source": [
    "Write a function `calc_low_risk_prop` to compute the proportion of defendants in an arbitrary group that are low risk.\n",
    "\n",
    "Then, use your function to replicate the results of the previous exercise.\n",
    "\n",
    "Your function should take the following inputs:\n",
    "- The overall violation rate of the group, `vg`\n",
    "- The probability of violation for low risk defendants if released, `vl`\n",
    "- The probability of violation for high risk defendants if released, `vh`"
   ]
  },
  {
   "cell_type": "code",
   "execution_count": 0,
   "metadata": {},
   "outputs": [],
   "source": [
    "# Your code here!\n",
    "\n"
   ]
  },
  {
   "cell_type": "markdown",
   "execution_count": 0,
   "metadata": {},
   "outputs": [],
   "source": [
    "## 🤥 False negative rates\n",
    "\n",
    "Let's consider pretrial detention as a binary decision, where 1 means detain and 0 means release.\n",
    "\n",
    "By construction: \n",
    "- A **false negative (FN)** is the event that a released defendant violates.\n",
    "- The **false negative rate (FNR)** is the release rate of those who would violate if released.\n",
    "\n",
    "Intuition for the FNR:\n",
    "\n",
    "1. The FNR is $\\frac{\\text{FN}}{\\text{FN}+\\text{TP}}$ (see slides).\n",
    "2. $\\text{FN}$ is the number of released defendants who violate.\n",
    "3. $\\text{TP}$ is the number of detained defendants who would have violated if released.\n",
    "2. Therefore, $\\text{FN}+\\text{TP}$ is the total number of people who would violate if released.\n",
    "3. So, the FNR is the release rate of those who would violate if released.\n",
    "\n",
    "> The FNR can also be calculated by interpreting $\\text{FN}$ as the *proportion* of released defendants who violate, and $\\text{TP}$ as the *proportion* of detained defendants who would have violated if released. This will come in handy later!"
   ]
  },
  {
   "cell_type": "markdown",
   "execution_count": 0,
   "metadata": {},
   "outputs": [],
   "source": [
    "## 🧑‍⚖️ Judicial decisions"
   ]
  },
  {
   "cell_type": "markdown",
   "execution_count": 0,
   "metadata": {},
   "outputs": [],
   "source": [
    "Let's expand our pretrial detention scenario. Consider the following:\n",
    "- Suppose there is a judge who can perfectly perceive whether a defendant is low risk or high risk.\n",
    "- The judge uses a simple decision rule: release low risk defendants, and detain high risk defendants.\n",
    "\n",
    "In the scenario above, **all defendants are treated identically** (i.e., irrespective of group membership)."
   ]
  },
  {
   "cell_type": "markdown",
   "execution_count": 0,
   "metadata": {},
   "outputs": [],
   "source": [
    "## 🚀 Exercise: Comparing false negative rates"
   ]
  },
  {
   "cell_type": "markdown",
   "execution_count": 0,
   "metadata": {},
   "outputs": [],
   "source": [
    "For the judge described above, write a function to calculate to the calculate the false negative rate for an arbitrary group with an overall violation rate of `vg`, where low risk defendants violate with probability `vl` and high risk defendants violate with probability `vb`.\n",
    "\n",
    "> Your `calc_low_risk_prop` function may come in handy.\n",
    "\n",
    "Then, calculate the expected false negative rate for each group.\n",
    "\n",
    "> Important aside: It's impossible to calculate the true FNR from real data, since we do not observe violations for defendants who are detained. We can only estimate the true FNR under strong assumptions. \n",
    ">\n",
    "> For this problem, we're taking the perspective of a statistical **oracle** who knows everything about the populations of interest.\n",
    "\n",
    "What do you take away from your results? "
   ]
  },
  {
   "cell_type": "code",
   "execution_count": 0,
   "metadata": {},
   "outputs": [],
   "source": [
    "# Your code here!\n",
    "\n"
   ]
  },
  {
   "cell_type": "markdown",
   "execution_count": 0,
   "metadata": {},
   "outputs": [],
   "source": [
    "## 🎶 Interlude: Vectors and `for` loops in `R`"
   ]
  },
  {
   "cell_type": "markdown",
   "execution_count": 0,
   "metadata": {},
   "outputs": [],
   "source": [
    "A **vector** in `R` is a list of numbers, strings, or booleans.\n",
    "\n",
    "> Not to be confused with a **list**, which is not covered in this tutorial. Lists can contain elements of any type.\n",
    "\n",
    "Here's a shortcut for making a vector of arbitrary length with a constant value:"
   ]
  },
  {
   "cell_type": "code",
   "execution_count": 0,
   "metadata": {},
   "outputs": [],
   "source": [
    "# NA is similar to None in Python\n",
    "rep(NA, 10)"
   ]
  },
  {
   "cell_type": "markdown",
   "execution_count": 0,
   "metadata": {},
   "outputs": [],
   "source": [
    "We can also use `c()` to create vectors.\n",
    "\n",
    "> 🔎 The \"c\" in `c()` stands for **concatenate**.\n"
   ]
  },
  {
   "cell_type": "code",
   "execution_count": 0,
   "metadata": {},
   "outputs": [],
   "source": [
    "c(10, 100, 1000)"
   ]
  },
  {
   "cell_type": "markdown",
   "execution_count": 0,
   "metadata": {},
   "outputs": [],
   "source": [
    "We can extract **elements** from vectors using their **index**, or their place in line.\n",
    "\n",
    "> 🔎 Unlike most other programming languages, `R` is 1-indexed, not 0-indexed. So, the first element in a vector `v` is `v[1]`, not `v[0]`."
   ]
  },
  {
   "cell_type": "code",
   "execution_count": 0,
   "metadata": {},
   "outputs": [],
   "source": [
    "my_vector = c(10, 100, 1000)\n",
    "my_vector[1]"
   ]
  },
  {
   "cell_type": "markdown",
   "execution_count": 0,
   "metadata": {},
   "outputs": [],
   "source": [
    "#### 🔎 Printing vectors \n",
    "\n",
    "If you explicitly `print` a vector, the output looks a little different:"
   ]
  },
  {
   "cell_type": "code",
   "execution_count": 0,
   "metadata": {},
   "outputs": [],
   "source": [
    "print(my_vector)"
   ]
  },
  {
   "cell_type": "markdown",
   "execution_count": 0,
   "metadata": {},
   "outputs": [],
   "source": [
    "Why is there a `[1]` on the left of the printed results? \n",
    "\n",
    "Printing a longer vector gives us a hint:"
   ]
  },
  {
   "cell_type": "code",
   "execution_count": 0,
   "metadata": {},
   "outputs": [],
   "source": [
    "print(25:75)"
   ]
  },
  {
   "cell_type": "markdown",
   "execution_count": 0,
   "metadata": {},
   "outputs": [],
   "source": [
    "The bracketed numbers on the left side of the printed results indicate the index of the element immediately to the right.\n",
    "\n",
    "For example `[26]` indicates that `50` is the 26th element in the vector."
   ]
  },
  {
   "cell_type": "markdown",
   "execution_count": 0,
   "metadata": {},
   "outputs": [],
   "source": [
    "### `for` loops\n",
    "\n",
    "For most data science projects, `for` loops should be avoided in favor of more efficient tools.\n",
    "\n",
    "> For example, the `map` function and its variants from `furrr` package. Run `?map` for details.\n",
    "\n",
    "However, for exposition, here's the `R` syntax for a `for` loop:"
   ]
  },
  {
   "cell_type": "code",
   "execution_count": 0,
   "metadata": {},
   "outputs": [],
   "source": [
    "# Print the odd numbers between 1 and 20\n",
    "for (i in seq(1, 20, 2)) {\n",
    "  print(i)\n",
    "}"
   ]
  },
  {
   "cell_type": "markdown",
   "execution_count": 0,
   "metadata": {},
   "outputs": [],
   "source": [
    "🐍 The equivalent in `Python`:\n",
    "\n",
    "```\n",
    "# Print the odd numbers between 1 and 20\n",
    "for i in range(1, 20, 2):\n",
    "    print(i)\n",
    "```"
   ]
  },
  {
   "cell_type": "markdown",
   "execution_count": 0,
   "metadata": {},
   "outputs": [],
   "source": [
    "## 🚀 Exercise: Simulating different scenarios"
   ]
  },
  {
   "cell_type": "markdown",
   "execution_count": 0,
   "metadata": {},
   "outputs": [],
   "source": [
    "For this exercise, we'll investigate how our results change as a function of the violation probabilities of low and high risk defendants.\n",
    "\n",
    "As above, assume that the overall violation rate of Group 1 is 50\\%, and 40\\% for Group 2.\n",
    "\n",
    "Use two nested `for` loops to iterate over the following two vectors:\n",
    "\n",
    "1. `vl_vals = seq(0, 0.3, by=0.001)`\n",
    "\n",
    "> These are possible values of the probability that a low risk defendant violates.\n",
    "\n",
    "2. `vh_vals = seq(0.6, 1, by=0.001)`\n",
    "\n",
    "> These are possible values of the probability that a high risk defendant violates.\n",
    "\n",
    "At each iteration, calculate the difference in false negative rates between Groups 1 and 2. Call this value `diff`.\n",
    "\n",
    "Make sure to create three vectors to store the values of `vl`, `vh`, and `diff` at each iteration. \n",
    "\n",
    "> You should initialize each of these vectors with `rep(NA, N)`, where `N` is the total number of iterations. This is faster than concatenating to the end of the results vector at each iteration.\n",
    ">\n",
    "> You can use the `summary` function on the results vectors to check if the values make sense. \n",
    "\n",
    "In the next exercise, we'll plot the results from this exercise."
   ]
  },
  {
   "cell_type": "code",
   "execution_count": 0,
   "metadata": {},
   "outputs": [],
   "source": [
    "# Your code here!\n",
    "\n"
   ]
  },
  {
   "cell_type": "markdown",
   "execution_count": 0,
   "metadata": {},
   "outputs": [],
   "source": [
    "## 🚀 Final exercise: Plotting the results"
   ]
  },
  {
   "cell_type": "markdown",
   "execution_count": 0,
   "metadata": {},
   "outputs": [],
   "source": [
    "Create a tibble (i.e., dataframe with extra features) with your three results vectors from the previous exercise. \n",
    "\n",
    "Using your tibble, make a plot using `geom_raster`.\n",
    "\n",
    "> `?geom_raster` for more details!\n",
    "\n",
    "Using `geom_raster`, put the `vl` results on the x-axis, the `vh` results on the y-axis, and map `fill` (not `color`!) to `diff`. \n",
    "\n",
    "What patterns do you notice? How do these relate to the FNR formula?\n",
    "\n",
    "🖼️ Here's how to make a tibble:"
   ]
  },
  {
   "cell_type": "code",
   "execution_count": 0,
   "metadata": {},
   "outputs": [],
   "source": [
    "# colon `:` is a shortcut for vectors of consecutive integers\n",
    "x = 1:5\n",
    "y = 6:10\n",
    "\n",
    "# df is often used to denote a dataframe\n",
    "df = tibble(\n",
    "  x_vals = x,\n",
    "  y_vals = y\n",
    ")\n",
    "\n",
    "df"
   ]
  },
  {
   "cell_type": "code",
   "execution_count": 0,
   "metadata": {},
   "outputs": [],
   "source": [
    "# Your code here!\n",
    "\n"
   ]
  }
 ],
 "metadata": {
  "kernelspec": {
   "display_name": "R",
   "language": "R",
   "name": "ir"
  },
  "language_info": {
   "codemirror_mode": "r",
   "file_extension": ".r",
   "mimetype": "text/x-r-source",
   "name": "R",
   "pygments_lexer": "r",
   "version": "4.2.1"
  }
 },
 "nbformat": 4,
 "nbformat_minor": 4
}
