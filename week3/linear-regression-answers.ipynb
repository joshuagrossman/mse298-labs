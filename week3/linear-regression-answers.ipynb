{
 "cells": [
  {
   "cell_type": "markdown",
   "metadata": {},
   "source": [
    "# 📐 Measuring discrimination with linear regression\n",
    "\n",
    "❗❗❗ **Make sure to save a copy of this notebook to your Google Drive so your work isn't lost.**"
   ]
  },
  {
   "cell_type": "markdown",
   "metadata": {},
   "source": [
    "## Introduction\n",
    "\n",
    "In this tutorial, we'll use `R` to fit linear models that assess potentially discriminatory behavior in a hypothetical federal pretrial setting.\n",
    "\n",
    "By the end of the tutorial, you'll have foundational understanding of the following:\n",
    "1. 📏 How linear regression can be used to assess potential discrimination.\n",
    "2. 📈 How to fit and interpret a linear model using `R`."
   ]
  },
  {
   "cell_type": "markdown",
   "metadata": {},
   "source": [
    "## ✅ Set up\n",
    "\n",
    "Make sure to run the cell below. It imports additional useful functions, adjusts `R` settings, and loads in data. "
   ]
  },
  {
   "cell_type": "code",
   "execution_count": 1,
   "metadata": {
    "vscode": {
     "languageId": "r"
    }
   },
   "outputs": [
    {
     "name": "stderr",
     "output_type": "stream",
     "text": [
      "── \u001b[1mAttaching packages\u001b[22m ────────────────────────────── tidyverse 1.3.2 ──\n",
      "\u001b[32m✔\u001b[39m \u001b[34mggplot2\u001b[39m 3.3.6     \u001b[32m✔\u001b[39m \u001b[34mpurrr  \u001b[39m 0.3.4\n",
      "\u001b[32m✔\u001b[39m \u001b[34mtibble \u001b[39m 3.1.8     \u001b[32m✔\u001b[39m \u001b[34mdplyr  \u001b[39m 1.0.9\n",
      "\u001b[32m✔\u001b[39m \u001b[34mtidyr  \u001b[39m 1.2.0     \u001b[32m✔\u001b[39m \u001b[34mstringr\u001b[39m 1.4.1\n",
      "\u001b[32m✔\u001b[39m \u001b[34mreadr  \u001b[39m 2.1.2     \u001b[32m✔\u001b[39m \u001b[34mforcats\u001b[39m 0.5.2\n",
      "── \u001b[1mConflicts\u001b[22m ───────────────────────────────── tidyverse_conflicts() ──\n",
      "\u001b[31m✖\u001b[39m \u001b[34mdplyr\u001b[39m::\u001b[32mfilter()\u001b[39m masks \u001b[34mstats\u001b[39m::filter()\n",
      "\u001b[31m✖\u001b[39m \u001b[34mdplyr\u001b[39m::\u001b[32mlag()\u001b[39m    masks \u001b[34mstats\u001b[39m::lag()\n"
     ]
    }
   ],
   "source": [
    "# Load in additional functions\n",
    "library(tidyverse)\n",
    "\n",
    "# Use three digits past the decimal point\n",
    "options(digits = 3)\n",
    "\n",
    "# This makes our plots look nice!\n",
    "theme_set(theme_bw())\n",
    "\n",
    "# This is where the data is stored.\n",
    "DATA_PATH = \"https://github.com/joshuagrossman/mse298-labs/raw/main/week3/data/lab-3-data.rds\"\n",
    "\n",
    "# Load in the data\n",
    "data = read_rds(DATA_PATH)"
   ]
  },
  {
   "cell_type": "markdown",
   "metadata": {},
   "source": [
    "## 🏛️ Primer on federal pretrial incarceration"
   ]
  },
  {
   "cell_type": "markdown",
   "metadata": {},
   "source": [
    "⏮️ In the last lab, we covered the basics of the criminal pretrial process. \n",
    "\n",
    "⏭️ In this lab, we specifically consider federal pretrial detention.\n",
    "\n",
    "⚖️ In several federal jurisdictions (though not all!), the pretrial process proceeds as follows:\n",
    "1. First, there is an **initial hearing**.\n",
    "2. During the initial hearing, the prosecutor may recommend that the defendant should be detained before their trial (i.e., the prosecutor **\"moves to detain\"**).\n",
    "3. If the prosecutor does not move to detain, the defendant is typically released at the initial hearing.\n",
    "4. If the prosecutor moves to detain, the defendant is temporarily detained. Officers of the court take several days to learn more about the defendant.\n",
    "5. After this investigation, there is a **detention hearing**.\n",
    "6. At the detention hearing, the judge decides whether the defendant should be detained or released before their trial. \n",
    "\n",
    "🎓 For more context on the federal pretrial process, see [Grossman, Nyarko, Goel (2023)](https://5harad.com/papers/multi-stage-bias.pdf).\n",
    "\n",
    "This lab will analyze potential racial bias in **hypothetical motions for detention among federal prosecutors**."
   ]
  },
  {
   "cell_type": "markdown",
   "metadata": {},
   "source": [
    "## 🚀 Exercise: Understanding the data\n",
    "\n",
    "The data in this lab is from a hypothetical pretrial setting. Each row represents a defendant.\n",
    "\n",
    "1. Inspect the data. Which column indicates whether the prosecution moved to detain?\n",
    "\n",
    "2. Using the data, calculate the proportion of defendants for whom the prosecution moves for detention. \n",
    "\n",
    "3. Then, calculate the same proportion for each race and ethnicity group. What do you find?"
   ]
  },
  {
   "cell_type": "code",
   "execution_count": 2,
   "metadata": {},
   "outputs": [
    {
     "data": {
      "text/html": [
       "<table class=\"dataframe\">\n",
       "<caption>A tibble: 6 × 12</caption>\n",
       "<thead>\n",
       "\t<tr><th scope=col>prosecution_detain</th><th scope=col>released</th><th scope=col>race</th><th scope=col>sex</th><th scope=col>age</th><th scope=col>risk</th><th scope=col>msd_convictions</th><th scope=col>fel_convictions</th><th scope=col>ftas_within_two_years</th><th scope=col>ftas_older_than_two_years</th><th scope=col>has_pending_charge</th><th scope=col>charge</th></tr>\n",
       "\t<tr><th scope=col>&lt;dbl&gt;</th><th scope=col>&lt;int&gt;</th><th scope=col>&lt;fct&gt;</th><th scope=col>&lt;fct&gt;</th><th scope=col>&lt;dbl&gt;</th><th scope=col>&lt;dbl&gt;</th><th scope=col>&lt;dbl&gt;</th><th scope=col>&lt;dbl&gt;</th><th scope=col>&lt;dbl&gt;</th><th scope=col>&lt;dbl&gt;</th><th scope=col>&lt;lgl&gt;</th><th scope=col>&lt;chr&gt;</th></tr>\n",
       "</thead>\n",
       "<tbody>\n",
       "\t<tr><td>0</td><td>1</td><td>W</td><td>M</td><td>61</td><td>0</td><td>0</td><td>0</td><td>0</td><td>0</td><td>FALSE</td><td>FEL_INTX</td></tr>\n",
       "\t<tr><td>0</td><td>1</td><td>W</td><td>M</td><td>26</td><td>1</td><td>1</td><td>0</td><td>0</td><td>0</td><td>FALSE</td><td>FEL_SEX </td></tr>\n",
       "\t<tr><td>1</td><td>0</td><td>B</td><td>M</td><td>30</td><td>4</td><td>1</td><td>5</td><td>0</td><td>0</td><td>FALSE</td><td>FEL_METH</td></tr>\n",
       "\t<tr><td>0</td><td>1</td><td>B</td><td>M</td><td>38</td><td>3</td><td>0</td><td>2</td><td>0</td><td>0</td><td>FALSE</td><td>FEL_FRAU</td></tr>\n",
       "\t<tr><td>1</td><td>0</td><td>B</td><td>M</td><td>55</td><td>5</td><td>0</td><td>6</td><td>0</td><td>7</td><td>FALSE</td><td>FEL_ROBB</td></tr>\n",
       "\t<tr><td>1</td><td>0</td><td>B</td><td>M</td><td>61</td><td>5</td><td>0</td><td>6</td><td>0</td><td>7</td><td>FALSE</td><td>FEL_ROBB</td></tr>\n",
       "</tbody>\n",
       "</table>\n"
      ],
      "text/latex": [
       "A tibble: 6 × 12\n",
       "\\begin{tabular}{llllllllllll}\n",
       " prosecution\\_detain & released & race & sex & age & risk & msd\\_convictions & fel\\_convictions & ftas\\_within\\_two\\_years & ftas\\_older\\_than\\_two\\_years & has\\_pending\\_charge & charge\\\\\n",
       " <dbl> & <int> & <fct> & <fct> & <dbl> & <dbl> & <dbl> & <dbl> & <dbl> & <dbl> & <lgl> & <chr>\\\\\n",
       "\\hline\n",
       "\t 0 & 1 & W & M & 61 & 0 & 0 & 0 & 0 & 0 & FALSE & FEL\\_INTX\\\\\n",
       "\t 0 & 1 & W & M & 26 & 1 & 1 & 0 & 0 & 0 & FALSE & FEL\\_SEX \\\\\n",
       "\t 1 & 0 & B & M & 30 & 4 & 1 & 5 & 0 & 0 & FALSE & FEL\\_METH\\\\\n",
       "\t 0 & 1 & B & M & 38 & 3 & 0 & 2 & 0 & 0 & FALSE & FEL\\_FRAU\\\\\n",
       "\t 1 & 0 & B & M & 55 & 5 & 0 & 6 & 0 & 7 & FALSE & FEL\\_ROBB\\\\\n",
       "\t 1 & 0 & B & M & 61 & 5 & 0 & 6 & 0 & 7 & FALSE & FEL\\_ROBB\\\\\n",
       "\\end{tabular}\n"
      ],
      "text/markdown": [
       "\n",
       "A tibble: 6 × 12\n",
       "\n",
       "| prosecution_detain &lt;dbl&gt; | released &lt;int&gt; | race &lt;fct&gt; | sex &lt;fct&gt; | age &lt;dbl&gt; | risk &lt;dbl&gt; | msd_convictions &lt;dbl&gt; | fel_convictions &lt;dbl&gt; | ftas_within_two_years &lt;dbl&gt; | ftas_older_than_two_years &lt;dbl&gt; | has_pending_charge &lt;lgl&gt; | charge &lt;chr&gt; |\n",
       "|---|---|---|---|---|---|---|---|---|---|---|---|\n",
       "| 0 | 1 | W | M | 61 | 0 | 0 | 0 | 0 | 0 | FALSE | FEL_INTX |\n",
       "| 0 | 1 | W | M | 26 | 1 | 1 | 0 | 0 | 0 | FALSE | FEL_SEX  |\n",
       "| 1 | 0 | B | M | 30 | 4 | 1 | 5 | 0 | 0 | FALSE | FEL_METH |\n",
       "| 0 | 1 | B | M | 38 | 3 | 0 | 2 | 0 | 0 | FALSE | FEL_FRAU |\n",
       "| 1 | 0 | B | M | 55 | 5 | 0 | 6 | 0 | 7 | FALSE | FEL_ROBB |\n",
       "| 1 | 0 | B | M | 61 | 5 | 0 | 6 | 0 | 7 | FALSE | FEL_ROBB |\n",
       "\n"
      ],
      "text/plain": [
       "  prosecution_detain released race sex age risk msd_convictions fel_convictions\n",
       "1 0                  1        W    M   61  0    0               0              \n",
       "2 0                  1        W    M   26  1    1               0              \n",
       "3 1                  0        B    M   30  4    1               5              \n",
       "4 0                  1        B    M   38  3    0               2              \n",
       "5 1                  0        B    M   55  5    0               6              \n",
       "6 1                  0        B    M   61  5    0               6              \n",
       "  ftas_within_two_years ftas_older_than_two_years has_pending_charge charge  \n",
       "1 0                     0                         FALSE              FEL_INTX\n",
       "2 0                     0                         FALSE              FEL_SEX \n",
       "3 0                     0                         FALSE              FEL_METH\n",
       "4 0                     0                         FALSE              FEL_FRAU\n",
       "5 0                     7                         FALSE              FEL_ROBB\n",
       "6 0                     7                         FALSE              FEL_ROBB"
      ]
     },
     "metadata": {},
     "output_type": "display_data"
    },
    {
     "name": "stdout",
     "output_type": "stream",
     "text": [
      "[1] \"Prop. move to detain:\"\n"
     ]
    },
    {
     "data": {
      "text/html": [
       "0.625493865668538"
      ],
      "text/latex": [
       "0.625493865668538"
      ],
      "text/markdown": [
       "0.625493865668538"
      ],
      "text/plain": [
       "[1] 0.625"
      ]
     },
     "metadata": {},
     "output_type": "display_data"
    },
    {
     "data": {
      "text/html": [
       "<table class=\"dataframe\">\n",
       "<caption>A tibble: 3 × 2</caption>\n",
       "<thead>\n",
       "\t<tr><th scope=col>race</th><th scope=col>mean(prosecution_detain)</th></tr>\n",
       "\t<tr><th scope=col>&lt;fct&gt;</th><th scope=col>&lt;dbl&gt;</th></tr>\n",
       "</thead>\n",
       "<tbody>\n",
       "\t<tr><td>W</td><td>0.451</td></tr>\n",
       "\t<tr><td>B</td><td>0.746</td></tr>\n",
       "\t<tr><td>H</td><td>0.732</td></tr>\n",
       "</tbody>\n",
       "</table>\n"
      ],
      "text/latex": [
       "A tibble: 3 × 2\n",
       "\\begin{tabular}{ll}\n",
       " race & mean(prosecution\\_detain)\\\\\n",
       " <fct> & <dbl>\\\\\n",
       "\\hline\n",
       "\t W & 0.451\\\\\n",
       "\t B & 0.746\\\\\n",
       "\t H & 0.732\\\\\n",
       "\\end{tabular}\n"
      ],
      "text/markdown": [
       "\n",
       "A tibble: 3 × 2\n",
       "\n",
       "| race &lt;fct&gt; | mean(prosecution_detain) &lt;dbl&gt; |\n",
       "|---|---|\n",
       "| W | 0.451 |\n",
       "| B | 0.746 |\n",
       "| H | 0.732 |\n",
       "\n"
      ],
      "text/plain": [
       "  race mean(prosecution_detain)\n",
       "1 W    0.451                   \n",
       "2 B    0.746                   \n",
       "3 H    0.732                   "
      ]
     },
     "metadata": {},
     "output_type": "display_data"
    }
   ],
   "source": [
    "# Your code here!\n",
    "\n",
    "# START ANSWER\n",
    "\n",
    "head(data)\n",
    "\n",
    "print('Prop. move to detain:')\n",
    "mean(data$prosecution_detain)\n",
    "\n",
    "data %>%\n",
    "  group_by(race) %>%\n",
    "  summarize(\n",
    "    mean(prosecution_detain)\n",
    "  )\n",
    "\n",
    "# Overall, the prosecution moves to detain in about 2/3rds of cases.\n",
    "# The prosecution moves to detain Black and Hispanic defendants at a rate more\n",
    "# than 1.5 times the rate of white defendants. While this is prima facie \n",
    "# evidence of discriminatory behavior, this finding alone cannot determine\n",
    "# whether the disparity can be traced to non-discriminatory factors\n",
    "\n",
    "# END ANSWER"
   ]
  },
  {
   "cell_type": "markdown",
   "metadata": {},
   "source": [
    "# 🗺️ The world's fastest primer on linear regression\n",
    "\n",
    "**Linear regression estimates conditional means.** \n",
    "\n",
    "🤝 For example, I may be interested in estimating the hiring rate for different combinations of gender, race, and age.\n",
    "\n",
    "Similar to the previous exercise, you could use a `group_by` and `summarize` statement to calculate the observed hiring rate for each combination.\n",
    "\n",
    "👎 But, this approach has several downsides. For example:\n",
    "- You need a table with $g*r*a$ cells to communicate the results, where $g$ is the number of genders, $r$ is the number of race groups, and $a$ is the number of age groups.\n",
    "- How do I estimate hiring rates for cells with no data? For example, what if my sample has no 35 year-old Asian women?\n",
    "- Can I trust estimated hiring rates in cells with only a few data points, or with big outliers?\n",
    "\n",
    "〰️ Linear regression allows you to \"smooth over\" the observed combinations, and efficiently describe patterns in the data.\n",
    "\n",
    "> That being said, in many scenarios, it can be informative to estimate and visualize conditional means directly (i.e., without using linear regression). We do this in the next exercise."
   ]
  },
  {
   "cell_type": "markdown",
   "metadata": {},
   "source": [
    "# 🚀 Exercise: Visualizing linear regression\n",
    "\n",
    "1. For each value of the `risk` column, calculate the rate at which the prosecution moves for detention, and also the size of each group.\n",
    "\n",
    "> `risk` is the defendant's statistically-estimated probability of violating if released. Later in the course, we'll discuss risk estimation.\n",
    "> \n",
    "> The `n()` function may come in handy.\n",
    "\n",
    "2. Using `ggplot()` to plot, for each value of `risk`, the rate at which the prosecution moves for detention. Map the size of the points to the size of each group, and connect the points with a line. \n",
    "\n",
    "3. Add a regression line to your plot with the following code:\n",
    "\n",
    "> `+ geom_smooth(data=data, mapping=aes(x=risk, y=prosecution_detain), method='lm')`\n",
    ">\n",
    "> where `data` is the original data we loaded in above. `lm` stands for linear model.\n",
    "\n",
    "Does the regression line appear to fit the data well? Explain."
   ]
  },
  {
   "cell_type": "code",
   "execution_count": 3,
   "metadata": {},
   "outputs": [
    {
     "name": "stderr",
     "output_type": "stream",
     "text": [
      "`geom_smooth()` using formula 'y ~ x'\n",
      "\n"
     ]
    },
    {
     "data": {
      "image/png": "[encoded data removed]",
      "text/plain": [
       "plot without title"
      ]
     },
     "metadata": {
      "image/png": {
       "height": 420,
       "width": 420
      }
     },
     "output_type": "display_data"
    }
   ],
   "source": [
    "# Your code here!\n",
    "\n",
    "# START ANSWER\n",
    "\n",
    "plot_df = data %>%\n",
    "  group_by(risk) %>%\n",
    "  summarize(\n",
    "    n = n(),\n",
    "    p_detain = mean(prosecution_detain)\n",
    "  )\n",
    "\n",
    "plot_df %>%\n",
    "  ggplot(aes(x=risk, y=p_detain)) +\n",
    "  geom_point(aes(size=n)) +\n",
    "  geom_line() +\n",
    "  geom_smooth(data=data, mapping=aes(x=risk, y=prosecution_detain), method='lm')\n",
    "  \n",
    "# The regression line appear to fit the data well for values of risk below 7.\n",
    "# The bulk of defendants have risk scores below 7.\n",
    "# The probability of moving for detention increases as risk increases,\n",
    "# which logically makes sense.\n",
    "# For large risk values, the regression line estimates a probability of moving\n",
    "# for detention that's greater than one. \n",
    "# While this practically does not make sense, mathematically the regression \n",
    "# algorithm does not know that the outcome is constrained between 0 and 1 \n",
    "# in the real world. \n",
    "# All linear probability models (LPMs) have this issue, though they are still\n",
    "# used often because they are easy to fit and interpret, and they tend to\n",
    "# estimate binary outcomes pretty well in many cases.\n",
    "\n",
    "\n",
    "# END ANSWER"
   ]
  },
  {
   "cell_type": "markdown",
   "metadata": {},
   "source": [
    "## 🚀 Exercise: Connecting the output of `lm` to conditional means"
   ]
  },
  {
   "cell_type": "markdown",
   "metadata": {},
   "source": [
    "Re-run your code above that calculates, by race, the proportion of defendants for whom the prosecution moves for detention. \n",
    "\n",
    "Then, run the following:\n",
    "\n",
    "`lm(prosecution_detain ~ 1 + race, data=data)`\n",
    "\n",
    "Are you able to connect the proportions you calculated to the output of this command? Explain."
   ]
  },
  {
   "cell_type": "code",
   "execution_count": 4,
   "metadata": {},
   "outputs": [
    {
     "data": {
      "text/html": [
       "<table class=\"dataframe\">\n",
       "<caption>A tibble: 3 × 2</caption>\n",
       "<thead>\n",
       "\t<tr><th scope=col>race</th><th scope=col>mean(prosecution_detain)</th></tr>\n",
       "\t<tr><th scope=col>&lt;fct&gt;</th><th scope=col>&lt;dbl&gt;</th></tr>\n",
       "</thead>\n",
       "<tbody>\n",
       "\t<tr><td>W</td><td>0.451</td></tr>\n",
       "\t<tr><td>B</td><td>0.746</td></tr>\n",
       "\t<tr><td>H</td><td>0.732</td></tr>\n",
       "</tbody>\n",
       "</table>\n"
      ],
      "text/latex": [
       "A tibble: 3 × 2\n",
       "\\begin{tabular}{ll}\n",
       " race & mean(prosecution\\_detain)\\\\\n",
       " <fct> & <dbl>\\\\\n",
       "\\hline\n",
       "\t W & 0.451\\\\\n",
       "\t B & 0.746\\\\\n",
       "\t H & 0.732\\\\\n",
       "\\end{tabular}\n"
      ],
      "text/markdown": [
       "\n",
       "A tibble: 3 × 2\n",
       "\n",
       "| race &lt;fct&gt; | mean(prosecution_detain) &lt;dbl&gt; |\n",
       "|---|---|\n",
       "| W | 0.451 |\n",
       "| B | 0.746 |\n",
       "| H | 0.732 |\n",
       "\n"
      ],
      "text/plain": [
       "  race mean(prosecution_detain)\n",
       "1 W    0.451                   \n",
       "2 B    0.746                   \n",
       "3 H    0.732                   "
      ]
     },
     "metadata": {},
     "output_type": "display_data"
    },
    {
     "data": {
      "text/plain": [
       "\n",
       "Call:\n",
       "lm(formula = prosecution_detain ~ 1 + race, data = data)\n",
       "\n",
       "Coefficients:\n",
       "(Intercept)        raceB        raceH  \n",
       "      0.451        0.295        0.282  \n"
      ]
     },
     "metadata": {},
     "output_type": "display_data"
    }
   ],
   "source": [
    "# Your code here!\n",
    "\n",
    "# START ANSWER\n",
    "\n",
    "data %>%\n",
    "  group_by(race) %>%\n",
    "  summarize(\n",
    "    mean(prosecution_detain)\n",
    "  )\n",
    "\n",
    "lm(prosecution_detain ~ 1 + race, data=data)\n",
    "\n",
    "# It looks like the `(Intercept)` part of the output is the same as the\n",
    "# proportion of white defendants for whom the prosecution moves for detention.\n",
    "# If you add the values of `raceB` and `raceH` to the `(Intercept)` value,\n",
    "# you get the corresponding proportions for Black and Hispanic defendants.\n",
    "\n",
    "# END ANSWER"
   ]
  },
  {
   "cell_type": "markdown",
   "metadata": {},
   "source": [
    "## 🧮 Regression formulas\n",
    "\n",
    "The linear regression algorithm fits a model to the data that estimates the **average value of the outcome conditional on the input variables**.\n",
    "\n",
    "Using only the information in the `race` column, the algorithm made its best guess for the average value of `prosecution_detain` (i.e., the probability of moving for detention) for each possible value in the `race` column.\n",
    "\n",
    "🔢 Here's the output as a formula:\n",
    "\n",
    "$\\widehat{\\text{prosecution_detain}}_i = 0.451 + 0.295*\\mathbb{I}_{\\text{raceB}, i} + 0.282*\\mathbb{I}_{\\text{raceH}, i}$,\n",
    "\n",
    "where $\\widehat{\\text{prosecution_detain}}_i$ is the estimated probability of $\\text{prosecution_detain}$ for individual $i$, $\\mathbb{I}_{\\text{raceB}, i}$ is an indicator of whether individual $i$ is Black, and $\\mathbb{I}_{\\text{raceH}, i}$ is an indicator of whether individual $i$ is Hispanic.\n",
    "\n",
    "> For reasons beyond the scope of this tutorial, the `lm` function automatically designates a **base level** of race/ethnicity, which in this case is `W` (i.e., white).\n",
    "This base level is represented by $0.451$, or the **intercept term**."
   ]
  },
  {
   "cell_type": "markdown",
   "metadata": {},
   "source": [
    "## ➕ Including additional variables\n",
    "\n",
    "Regression is not limited to one input. For example, we can include both the `race` and `risk` columns:"
   ]
  },
  {
   "cell_type": "code",
   "execution_count": 5,
   "metadata": {},
   "outputs": [
    {
     "data": {
      "text/plain": [
       "\n",
       "Call:\n",
       "lm(formula = prosecution_detain ~ 1 + race + risk, data = data)\n",
       "\n",
       "Coefficients:\n",
       "(Intercept)        raceB        raceH         risk  \n",
       "     0.2803       0.1096       0.1803       0.0796  \n"
      ]
     },
     "metadata": {},
     "output_type": "display_data"
    }
   ],
   "source": [
    "lm(prosecution_detain ~ 1 + race + risk, data=data)"
   ]
  },
  {
   "cell_type": "markdown",
   "metadata": {},
   "source": [
    "🔎 Here's how to interpret these values:\n",
    "1. `raceB` : **On average**, the prosecution is 11 percentage points more likely to move for detention of Black defendants than white defendants **with the same risk level**.\n",
    "2. `raceH` : **On average**, the prosecution is 18 percentage points more likely to move for detention of Hispanic defendants than white defendants **with the same risk level**.\n",
    "3. `risk` : A one point increase in risk leads to an 8 percentage point increase in the **estimated** probability of a motion for detention, **holding all other variables (i.e., race) constant**.\n",
    "4. `(Intercept)` : For a white defendant with a risk level of 0, the prosecution moves for detention with an estimated probability of 0.28.\n",
    "\n",
    "> ❗❗❗ Percentage points are different than percentages. For example, suppose my chance of winning a prize is 60%. If my chance of winning drops by 50%, my new probability of winning is **30%**. If my chance of winning drops by 50 percentage points, my new probability is **10%**.\n",
    "\n",
    "👉 It looks like the racial disparities in the rate of moving for detention dropped substantially once we **adjusted** for estimated risk. \n",
    "\n",
    "> But, estimated risk isn't the only factor a prosecutor might account for in their decision to detain. For example, prosecuctors may be statutorily compelled to move for detention if the defendant is charged with certain crimes."
   ]
  },
  {
   "cell_type": "markdown",
   "metadata": {},
   "source": [
    "## 🚀 Exercise: Running a \"kitchen-sink\" regression\n",
    "\n",
    "Fit a regression model that includes all columns in the data **except for `released`**, which indicates whether the defendant was **released at the initial hearing**.\n",
    "\n",
    "Here's how to fit the model:\n",
    "\n",
    "`lm(prosecution_detain ~ . - released, data=data)`\n",
    "\n",
    "How do you interpret the `raceB` and `raceH` coefficients?"
   ]
  },
  {
   "cell_type": "code",
   "execution_count": 6,
   "metadata": {},
   "outputs": [
    {
     "data": {
      "text/plain": [
       "\n",
       "Call:\n",
       "lm(formula = prosecution_detain ~ . - released, data = data)\n",
       "\n",
       "Coefficients:\n",
       "              (Intercept)                      raceB  \n",
       "                 0.670298                   0.013327  \n",
       "                    raceH                       sexF  \n",
       "                 0.027654                  -0.084413  \n",
       "                      age                       risk  \n",
       "                -0.002366                   0.046870  \n",
       "          msd_convictions            fel_convictions  \n",
       "                 0.000127                   0.007977  \n",
       "    ftas_within_two_years  ftas_older_than_two_years  \n",
       "                -0.007146                   0.003554  \n",
       "   has_pending_chargeTRUE             chargeFEL_COCA  \n",
       "                -0.082473                   0.069457  \n",
       "           chargeFEL_COUN             chargeFEL_EMBZ  \n",
       "                -0.143456                  -0.413792  \n",
       "           chargeFEL_ESCA             chargeFEL_FIRE  \n",
       "                 0.175032                   0.038268  \n",
       "           chargeFEL_FRAU             chargeFEL_HERI  \n",
       "                -0.403053                   0.102808  \n",
       "           chargeFEL_HOMI             chargeFEL_IMMI  \n",
       "                 0.130802                  -0.061918  \n",
       "           chargeFEL_INTX             chargeFEL_LARC  \n",
       "                -0.476464                  -0.385535  \n",
       "           chargeFEL_MAIF             chargeFEL_MAIT  \n",
       "                -0.450969                  -0.464794  \n",
       "           chargeFEL_MARI             chargeFEL_METH  \n",
       "                -0.096031                   0.092419  \n",
       "           chargeFEL_MISC             chargeFEL_OPIA  \n",
       "                -0.124017                   0.027119  \n",
       "           chargeFEL_OTDR            chargeFEL_OTHER  \n",
       "                -0.097190                  -0.034803  \n",
       "           chargeFEL_RACK             chargeFEL_ROBB  \n",
       "                 0.130423                   0.177137  \n",
       "            chargeFEL_SEX             chargeMIS_ASSA  \n",
       "                 0.028267                  -0.692637  \n",
       "           chargeMIS_ASSU             chargeMIS_BURG  \n",
       "                -0.575485                  -0.755586  \n",
       "           chargeMIS_FRAU             chargeMIS_LARC  \n",
       "                -0.559074                  -0.537186  \n",
       "           chargeMIS_MISC            chargeMIS_OTHER  \n",
       "                -0.585573                  -0.549155  \n",
       "           chargeMIS_TRAF  \n",
       "                -0.598455  \n"
      ]
     },
     "metadata": {},
     "output_type": "display_data"
    }
   ],
   "source": [
    "# Your code here!\n",
    "\n",
    "# START ANSWER\n",
    "\n",
    "lm(prosecution_detain ~ . - released, data=data)\n",
    "\n",
    "# Prosecutors are, on average, 1.3 percentage points more likely to move for \n",
    "# detention of Black defendants, compared to white defendants with the same \n",
    "# values of all included variables.\n",
    "\n",
    "# Same interpretation for Hispanic defendants, except the disparity is \n",
    "# 2.7 percentage points.\n",
    "\n",
    "# Even though we've adjusted for many variables, the adjusted racial disparities\n",
    "# may still suffer from omitted variable bias, in which case we cannot\n",
    "# definitively say anything about disparate treatment. \n",
    "\n",
    "# Note that a \"kitchen-sink\" regression like this one is a very common approach \n",
    "# to assessing potential disparate treatment in both academic research and \n",
    "# court cases.\n",
    "\n",
    "# END ANSWER"
   ]
  },
  {
   "cell_type": "markdown",
   "metadata": {},
   "source": [
    "## 🚀 Exercise: What about the `released` column?\n",
    "\n",
    "Fit a regression model that includes **all** columns in the data, including `released`.\n",
    "\n",
    "Why do you think the `raceH` coefficient changed so drastically?\n",
    "\n",
    "> Hint: Create a confusion matrix for `prosecution_detain` and `released`. Remember that `released` indicates whether an individual was released at the initial hearing."
   ]
  },
  {
   "cell_type": "code",
   "execution_count": 8,
   "metadata": {},
   "outputs": [
    {
     "data": {
      "text/html": [
       "<table class=\"dataframe\">\n",
       "<caption>A tibble: 4 × 3</caption>\n",
       "<thead>\n",
       "\t<tr><th scope=col>prosecution_detain</th><th scope=col>released</th><th scope=col>n</th></tr>\n",
       "\t<tr><th scope=col>&lt;dbl&gt;</th><th scope=col>&lt;int&gt;</th><th scope=col>&lt;int&gt;</th></tr>\n",
       "</thead>\n",
       "<tbody>\n",
       "\t<tr><td>0</td><td>0</td><td> 135</td></tr>\n",
       "\t<tr><td>0</td><td>1</td><td>1666</td></tr>\n",
       "\t<tr><td>1</td><td>0</td><td>2959</td></tr>\n",
       "\t<tr><td>1</td><td>1</td><td>  49</td></tr>\n",
       "</tbody>\n",
       "</table>\n"
      ],
      "text/latex": [
       "A tibble: 4 × 3\n",
       "\\begin{tabular}{lll}\n",
       " prosecution\\_detain & released & n\\\\\n",
       " <dbl> & <int> & <int>\\\\\n",
       "\\hline\n",
       "\t 0 & 0 &  135\\\\\n",
       "\t 0 & 1 & 1666\\\\\n",
       "\t 1 & 0 & 2959\\\\\n",
       "\t 1 & 1 &   49\\\\\n",
       "\\end{tabular}\n"
      ],
      "text/markdown": [
       "\n",
       "A tibble: 4 × 3\n",
       "\n",
       "| prosecution_detain &lt;dbl&gt; | released &lt;int&gt; | n &lt;int&gt; |\n",
       "|---|---|---|\n",
       "| 0 | 0 |  135 |\n",
       "| 0 | 1 | 1666 |\n",
       "| 1 | 0 | 2959 |\n",
       "| 1 | 1 |   49 |\n",
       "\n"
      ],
      "text/plain": [
       "  prosecution_detain released n   \n",
       "1 0                  0         135\n",
       "2 0                  1        1666\n",
       "3 1                  0        2959\n",
       "4 1                  1          49"
      ]
     },
     "metadata": {},
     "output_type": "display_data"
    },
    {
     "data": {
      "text/plain": [
       "\n",
       "Call:\n",
       "lm(formula = prosecution_detain ~ ., data = data)\n",
       "\n",
       "Coefficients:\n",
       "              (Intercept)                   released  \n",
       "                 0.908847                  -0.877950  \n",
       "                    raceB                      raceH  \n",
       "                 0.012600                  -0.000952  \n",
       "                     sexF                        age  \n",
       "                -0.007782                  -0.000283  \n",
       "                     risk            msd_convictions  \n",
       "                 0.007051                  -0.001141  \n",
       "          fel_convictions      ftas_within_two_years  \n",
       "                 0.002305                  -0.000342  \n",
       "ftas_older_than_two_years     has_pending_chargeTRUE  \n",
       "                 0.001507                  -0.026658  \n",
       "           chargeFEL_COCA             chargeFEL_COUN  \n",
       "                 0.021531                   0.024860  \n",
       "           chargeFEL_EMBZ             chargeFEL_ESCA  \n",
       "                -0.002126                   0.061492  \n",
       "           chargeFEL_FIRE             chargeFEL_FRAU  \n",
       "                 0.031688                   0.004263  \n",
       "           chargeFEL_HERI             chargeFEL_HOMI  \n",
       "                 0.020746                   0.060904  \n",
       "           chargeFEL_IMMI             chargeFEL_INTX  \n",
       "                 0.025546                   0.006075  \n",
       "           chargeFEL_LARC             chargeFEL_MAIF  \n",
       "                -0.039925                  -0.024998  \n",
       "           chargeFEL_MAIT             chargeFEL_MARI  \n",
       "                 0.018450                   0.025780  \n",
       "           chargeFEL_METH             chargeFEL_MISC  \n",
       "                 0.020670                   0.030868  \n",
       "           chargeFEL_OPIA             chargeFEL_OTDR  \n",
       "                 0.128898                  -0.013289  \n",
       "          chargeFEL_OTHER             chargeFEL_RACK  \n",
       "                 0.020212                   0.045430  \n",
       "           chargeFEL_ROBB              chargeFEL_SEX  \n",
       "                 0.055351                   0.021392  \n",
       "           chargeMIS_ASSA             chargeMIS_ASSU  \n",
       "                -0.032372                  -0.022608  \n",
       "           chargeMIS_BURG             chargeMIS_FRAU  \n",
       "                -0.150094                  -0.018518  \n",
       "           chargeMIS_LARC             chargeMIS_MISC  \n",
       "                -0.004918                  -0.035420  \n",
       "          chargeMIS_OTHER             chargeMIS_TRAF  \n",
       "                -0.019525                  -0.022894  \n"
      ]
     },
     "metadata": {},
     "output_type": "display_data"
    }
   ],
   "source": [
    "# Your code here!\n",
    "\n",
    "# START ANSWER\n",
    "\n",
    "count(data, prosecution_detain, released)\n",
    "\n",
    "lm(prosecution_detain ~ ., data=data)\n",
    "\n",
    "# The raceH coefficient is now 0, though raceB is about the same.\n",
    "# The large change in the raceH coefficient is post-treatment bias in action.\n",
    "# Motions for detentions are nearly perfectly predictive of whether a defendant\n",
    "# is released at the initial hearing.\n",
    "# The release decision comes after the prosecution moves for detention,\n",
    "# so adjusting for the release decision attenuates the estimated disparities.\n",
    "# See lecture slides for more details on post-treatment bias.\n",
    "\n",
    "# Takeaway: don't adjust for post-treatment variables!\n",
    "\n",
    "# END ANSWER"
   ]
  }
 ],
 "metadata": {
  "kernelspec": {
   "display_name": "R",
   "language": "R",
   "name": "ir"
  },
  "language_info": {
   "codemirror_mode": "r",
   "file_extension": ".r",
   "mimetype": "text/x-r-source",
   "name": "R",
   "pygments_lexer": "r",
   "version": "4.2.1"
  }
 },
 "nbformat": 4,
 "nbformat_minor": 4
}
